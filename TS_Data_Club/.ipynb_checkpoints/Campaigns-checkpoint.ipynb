{
 "cells": [
  {
   "cell_type": "code",
   "execution_count": 22,
   "metadata": {},
   "outputs": [],
   "source": [
    "import pandas as pd\n",
    "import numpy as np\n",
    "import matplotlib.pyplot as plt"
   ]
  },
  {
   "cell_type": "code",
   "execution_count": 23,
   "metadata": {},
   "outputs": [
    {
     "name": "stderr",
     "output_type": "stream",
     "text": [
      "/Users/katiawilliams/anaconda3/lib/python3.6/site-packages/IPython/core/interactiveshell.py:2698: DtypeWarning: Columns (0,16,17,22,26,28,31,32,33,34,35,36,39,40,41,42,43,44,45,48,49,50,51,52,54,55,58,59,60,61,63,67,68,69,73,74,76,77) have mixed types. Specify dtype option on import or set low_memory=False.\n",
      "  interactivity=interactivity, compiler=compiler, result=result)\n"
     ]
    },
    {
     "data": {
      "text/html": [
       "<div>\n",
       "<style>\n",
       "    .dataframe thead tr:only-child th {\n",
       "        text-align: right;\n",
       "    }\n",
       "\n",
       "    .dataframe thead th {\n",
       "        text-align: left;\n",
       "    }\n",
       "\n",
       "    .dataframe tbody tr th {\n",
       "        vertical-align: top;\n",
       "    }\n",
       "</style>\n",
       "<table border=\"1\" class=\"dataframe\">\n",
       "  <thead>\n",
       "    <tr style=\"text-align: right;\">\n",
       "      <th></th>\n",
       "      <th>Filer_ID</th>\n",
       "      <th>Filer_NamL</th>\n",
       "      <th>Report_Num</th>\n",
       "      <th>Committee_Type</th>\n",
       "      <th>Rpt_Date</th>\n",
       "      <th>From_Date</th>\n",
       "      <th>Thru_Date</th>\n",
       "      <th>Elect_Date</th>\n",
       "      <th>tblCover_Office_Cd</th>\n",
       "      <th>tblCover_Offic_Dscr</th>\n",
       "      <th>...</th>\n",
       "      <th>Memo_Code</th>\n",
       "      <th>Memo_RefNo</th>\n",
       "      <th>BakRef_TID</th>\n",
       "      <th>XRef_SchNm</th>\n",
       "      <th>XRef_Match</th>\n",
       "      <th>Loan_Rate</th>\n",
       "      <th>Int_CmteId</th>\n",
       "      <th>Tran_Location</th>\n",
       "      <th>Tres_Location</th>\n",
       "      <th>Intr_Location</th>\n",
       "    </tr>\n",
       "  </thead>\n",
       "  <tbody>\n",
       "    <tr>\n",
       "      <th>0</th>\n",
       "      <td>1249382</td>\n",
       "      <td>12th A. D. Chinese American Democratic Club</td>\n",
       "      <td>0</td>\n",
       "      <td>RCP</td>\n",
       "      <td>01/28/2003</td>\n",
       "      <td>01/01/2002</td>\n",
       "      <td>12/31/2002</td>\n",
       "      <td>NaN</td>\n",
       "      <td>NaN</td>\n",
       "      <td>NaN</td>\n",
       "      <td>...</td>\n",
       "      <td>NaN</td>\n",
       "      <td>NaN</td>\n",
       "      <td>NaN</td>\n",
       "      <td>NaN</td>\n",
       "      <td>NaN</td>\n",
       "      <td>NaN</td>\n",
       "      <td>NaN</td>\n",
       "      <td>94127(37.735395, -122.460584)</td>\n",
       "      <td>NaN</td>\n",
       "      <td>NaN</td>\n",
       "    </tr>\n",
       "    <tr>\n",
       "      <th>1</th>\n",
       "      <td>1249382</td>\n",
       "      <td>12th A. D. Chinese American Democratic Club</td>\n",
       "      <td>0</td>\n",
       "      <td>RCP</td>\n",
       "      <td>01/28/2003</td>\n",
       "      <td>01/01/2002</td>\n",
       "      <td>12/31/2002</td>\n",
       "      <td>NaN</td>\n",
       "      <td>NaN</td>\n",
       "      <td>NaN</td>\n",
       "      <td>...</td>\n",
       "      <td>NaN</td>\n",
       "      <td>NaN</td>\n",
       "      <td>NaN</td>\n",
       "      <td>NaN</td>\n",
       "      <td>NaN</td>\n",
       "      <td>NaN</td>\n",
       "      <td>NaN</td>\n",
       "      <td>94104(37.791405, -122.402029)</td>\n",
       "      <td>NaN</td>\n",
       "      <td>NaN</td>\n",
       "    </tr>\n",
       "    <tr>\n",
       "      <th>2</th>\n",
       "      <td>1250153</td>\n",
       "      <td>12th A. D. Democratic Club</td>\n",
       "      <td>0</td>\n",
       "      <td>RCP</td>\n",
       "      <td>01/28/2003</td>\n",
       "      <td>01/01/2002</td>\n",
       "      <td>12/31/2002</td>\n",
       "      <td>NaN</td>\n",
       "      <td>NaN</td>\n",
       "      <td>NaN</td>\n",
       "      <td>...</td>\n",
       "      <td>NaN</td>\n",
       "      <td>NaN</td>\n",
       "      <td>NaN</td>\n",
       "      <td>NaN</td>\n",
       "      <td>NaN</td>\n",
       "      <td>NaN</td>\n",
       "      <td>NaN</td>\n",
       "      <td>94112(37.720647, -122.442853)</td>\n",
       "      <td>NaN</td>\n",
       "      <td>NaN</td>\n",
       "    </tr>\n",
       "    <tr>\n",
       "      <th>3</th>\n",
       "      <td>1250153</td>\n",
       "      <td>12th A. D. Democratic Club</td>\n",
       "      <td>0</td>\n",
       "      <td>RCP</td>\n",
       "      <td>01/08/2004</td>\n",
       "      <td>07/01/2003</td>\n",
       "      <td>12/31/2003</td>\n",
       "      <td>NaN</td>\n",
       "      <td>NaN</td>\n",
       "      <td>NaN</td>\n",
       "      <td>...</td>\n",
       "      <td>NaN</td>\n",
       "      <td>NaN</td>\n",
       "      <td>NaN</td>\n",
       "      <td>NaN</td>\n",
       "      <td>NaN</td>\n",
       "      <td>NaN</td>\n",
       "      <td>NaN</td>\n",
       "      <td>94103(37.772469, -122.411853)</td>\n",
       "      <td>NaN</td>\n",
       "      <td>NaN</td>\n",
       "    </tr>\n",
       "    <tr>\n",
       "      <th>4</th>\n",
       "      <td>1250153</td>\n",
       "      <td>12th A. D. Democratic Club</td>\n",
       "      <td>0</td>\n",
       "      <td>RCP</td>\n",
       "      <td>01/28/2003</td>\n",
       "      <td>01/01/2002</td>\n",
       "      <td>12/31/2002</td>\n",
       "      <td>NaN</td>\n",
       "      <td>NaN</td>\n",
       "      <td>NaN</td>\n",
       "      <td>...</td>\n",
       "      <td>NaN</td>\n",
       "      <td>NaN</td>\n",
       "      <td>NaN</td>\n",
       "      <td>NaN</td>\n",
       "      <td>NaN</td>\n",
       "      <td>NaN</td>\n",
       "      <td>NaN</td>\n",
       "      <td>94122(37.761208, -122.48469)</td>\n",
       "      <td>NaN</td>\n",
       "      <td>NaN</td>\n",
       "    </tr>\n",
       "  </tbody>\n",
       "</table>\n",
       "<p>5 rows × 78 columns</p>\n",
       "</div>"
      ],
      "text/plain": [
       "  Filer_ID                                   Filer_NamL  Report_Num  \\\n",
       "0  1249382  12th A. D. Chinese American Democratic Club           0   \n",
       "1  1249382  12th A. D. Chinese American Democratic Club           0   \n",
       "2  1250153                   12th A. D. Democratic Club           0   \n",
       "3  1250153                   12th A. D. Democratic Club           0   \n",
       "4  1250153                   12th A. D. Democratic Club           0   \n",
       "\n",
       "  Committee_Type    Rpt_Date   From_Date   Thru_Date Elect_Date  \\\n",
       "0            RCP  01/28/2003  01/01/2002  12/31/2002        NaN   \n",
       "1            RCP  01/28/2003  01/01/2002  12/31/2002        NaN   \n",
       "2            RCP  01/28/2003  01/01/2002  12/31/2002        NaN   \n",
       "3            RCP  01/08/2004  07/01/2003  12/31/2003        NaN   \n",
       "4            RCP  01/28/2003  01/01/2002  12/31/2002        NaN   \n",
       "\n",
       "   tblCover_Office_Cd  tblCover_Offic_Dscr      ...       Memo_Code  \\\n",
       "0                 NaN                  NaN      ...             NaN   \n",
       "1                 NaN                  NaN      ...             NaN   \n",
       "2                 NaN                  NaN      ...             NaN   \n",
       "3                 NaN                  NaN      ...             NaN   \n",
       "4                 NaN                  NaN      ...             NaN   \n",
       "\n",
       "  Memo_RefNo BakRef_TID XRef_SchNm XRef_Match Loan_Rate Int_CmteId  \\\n",
       "0        NaN        NaN        NaN        NaN       NaN        NaN   \n",
       "1        NaN        NaN        NaN        NaN       NaN        NaN   \n",
       "2        NaN        NaN        NaN        NaN       NaN        NaN   \n",
       "3        NaN        NaN        NaN        NaN       NaN        NaN   \n",
       "4        NaN        NaN        NaN        NaN       NaN        NaN   \n",
       "\n",
       "                   Tran_Location  Tres_Location  Intr_Location  \n",
       "0  94127(37.735395, -122.460584)            NaN            NaN  \n",
       "1  94104(37.791405, -122.402029)            NaN            NaN  \n",
       "2  94112(37.720647, -122.442853)            NaN            NaN  \n",
       "3  94103(37.772469, -122.411853)            NaN            NaN  \n",
       "4   94122(37.761208, -122.48469)            NaN            NaN  \n",
       "\n",
       "[5 rows x 78 columns]"
      ]
     },
     "execution_count": 23,
     "metadata": {},
     "output_type": "execute_result"
    }
   ],
   "source": [
    "Finance = pd.read_csv(\"Campaign_Finance_-_FPPC_Form_460_-_Schedule_A_-_Monetary_Contributions.csv\")\n",
    "Finance.head()"
   ]
  },
  {
   "cell_type": "code",
   "execution_count": 24,
   "metadata": {},
   "outputs": [
    {
     "data": {
      "text/plain": [
       "Index(['Filer_ID', 'Filer_NamL', 'Report_Num', 'Committee_Type', 'Rpt_Date',\n",
       "       'From_Date', 'Thru_Date', 'Elect_Date', 'tblCover_Office_Cd',\n",
       "       'tblCover_Offic_Dscr', 'Rec_Type', 'Form_Type', 'Tran_ID', 'Entity_Cd',\n",
       "       'Tran_NamL', 'Tran_NamF', 'Tran_NamT', 'Tran_NamS', 'Tran_Adr1',\n",
       "       'Tran_Adr2', 'Tran_City', 'Tran_State', 'Tran_Zip4', 'Tran_Emp',\n",
       "       'Tran_Occ', 'Tran_Self', 'Tran_Type', 'Tran_Date', 'Tran_Date1',\n",
       "       'Tran_Amt1', 'Tran_Amt2', 'Tran_Dscr', 'Cmte_ID', 'Tres_NamL',\n",
       "       'Tres_NamF', 'Tres_NamT', 'Tres_NamS', 'Tres_Adr1', 'Tres_Adr2',\n",
       "       'Tres_City', 'Tres_State', 'Tres_Zip', 'Intr_NamL', 'Intr_NamF',\n",
       "       'Intr_NamT', 'Intr_NamS', 'Intr_Adr1', 'Intr_Adr2', 'Intr_City',\n",
       "       'Intr_State', 'Intr_Zip4', 'Intr_Emp', 'Intr_Occ', 'Intr_Self',\n",
       "       'Cand_NamL', 'Cand_NamF', 'Cand_NamT', 'Cand_NamS',\n",
       "       'tblDetlTran_Office_Cd', 'tblDetlTran_Offic_Dscr', 'Juris_Cd',\n",
       "       'Juris_Dscr', 'Dist_No', 'Off_S_H_Cd', 'Bal_Name', 'Bal_Num',\n",
       "       'Bal_Juris', 'Sup_Opp_Cd', 'Memo_Code', 'Memo_RefNo', 'BakRef_TID',\n",
       "       'XRef_SchNm', 'XRef_Match', 'Loan_Rate', 'Int_CmteId', 'Tran_Location',\n",
       "       'Tres_Location', 'Intr_Location'],\n",
       "      dtype='object')"
      ]
     },
     "execution_count": 24,
     "metadata": {},
     "output_type": "execute_result"
    }
   ],
   "source": [
    "Finance.columns"
   ]
  },
  {
   "cell_type": "markdown",
   "metadata": {},
   "source": [
    "Let's see who's getting the most funding!\n",
    "\n",
    "We check the docs and see the column types with \"payee\" in them. That's a good sign! We'll also take \"Tran_Amt1\"\n",
    "\n"
   ]
  },
  {
   "cell_type": "code",
   "execution_count": 39,
   "metadata": {},
   "outputs": [
    {
     "data": {
      "text/html": [
       "<div>\n",
       "<style>\n",
       "    .dataframe thead tr:only-child th {\n",
       "        text-align: right;\n",
       "    }\n",
       "\n",
       "    .dataframe thead th {\n",
       "        text-align: left;\n",
       "    }\n",
       "\n",
       "    .dataframe tbody tr th {\n",
       "        vertical-align: top;\n",
       "    }\n",
       "</style>\n",
       "<table border=\"1\" class=\"dataframe\">\n",
       "  <thead>\n",
       "    <tr style=\"text-align: right;\">\n",
       "      <th></th>\n",
       "      <th>Cand_NamT</th>\n",
       "      <th>Cand_NamF</th>\n",
       "      <th>Cand_NamL</th>\n",
       "      <th>Cand_NamS</th>\n",
       "      <th>Tran_Amt1</th>\n",
       "    </tr>\n",
       "  </thead>\n",
       "  <tbody>\n",
       "    <tr>\n",
       "      <th>0</th>\n",
       "      <td>NaN</td>\n",
       "      <td>NaN</td>\n",
       "      <td>NaN</td>\n",
       "      <td>NaN</td>\n",
       "      <td>250.0</td>\n",
       "    </tr>\n",
       "    <tr>\n",
       "      <th>1</th>\n",
       "      <td>NaN</td>\n",
       "      <td>NaN</td>\n",
       "      <td>NaN</td>\n",
       "      <td>NaN</td>\n",
       "      <td>4000.0</td>\n",
       "    </tr>\n",
       "    <tr>\n",
       "      <th>2</th>\n",
       "      <td>NaN</td>\n",
       "      <td>NaN</td>\n",
       "      <td>NaN</td>\n",
       "      <td>NaN</td>\n",
       "      <td>300.0</td>\n",
       "    </tr>\n",
       "    <tr>\n",
       "      <th>3</th>\n",
       "      <td>NaN</td>\n",
       "      <td>NaN</td>\n",
       "      <td>NaN</td>\n",
       "      <td>NaN</td>\n",
       "      <td>4000.0</td>\n",
       "    </tr>\n",
       "    <tr>\n",
       "      <th>4</th>\n",
       "      <td>NaN</td>\n",
       "      <td>NaN</td>\n",
       "      <td>NaN</td>\n",
       "      <td>NaN</td>\n",
       "      <td>250.0</td>\n",
       "    </tr>\n",
       "  </tbody>\n",
       "</table>\n",
       "</div>"
      ],
      "text/plain": [
       "   Cand_NamT Cand_NamF Cand_NamL  Cand_NamS  Tran_Amt1\n",
       "0        NaN       NaN       NaN        NaN      250.0\n",
       "1        NaN       NaN       NaN        NaN     4000.0\n",
       "2        NaN       NaN       NaN        NaN      300.0\n",
       "3        NaN       NaN       NaN        NaN     4000.0\n",
       "4        NaN       NaN       NaN        NaN      250.0"
      ]
     },
     "execution_count": 39,
     "metadata": {},
     "output_type": "execute_result"
    }
   ],
   "source": [
    "fin_payees = Finance.loc[:,[\"Cand_NamT\", \"Cand_NamF\", \"Cand_NamL\", \"Cand_NamS\", \"Tran_Amt1\"]]\n",
    "fin_payees.head()"
   ]
  },
  {
   "cell_type": "markdown",
   "metadata": {},
   "source": [
    "Oh no! They don't give us the payee names! Interesting...\n",
    "\n",
    "Quick sanity check: How many rows don't have a candidate last name compared to the total number of rows?"
   ]
  },
  {
   "cell_type": "code",
   "execution_count": 41,
   "metadata": {},
   "outputs": [
    {
     "data": {
      "text/plain": [
       "359921"
      ]
     },
     "execution_count": 41,
     "metadata": {},
     "output_type": "execute_result"
    }
   ],
   "source": [
    "sum(pd.isnull(fin_payees['Cand_NamL']))"
   ]
  },
  {
   "cell_type": "code",
   "execution_count": 42,
   "metadata": {},
   "outputs": [
    {
     "data": {
      "text/plain": [
       "359922"
      ]
     },
     "execution_count": 42,
     "metadata": {},
     "output_type": "execute_result"
    }
   ],
   "source": [
    "len(fin_payees)"
   ]
  },
  {
   "cell_type": "markdown",
   "metadata": {},
   "source": [
    "They are almost all null. Superb, no one reports on who they're giving to!\n",
    "\n",
    "Maybe we can get some information from the organizations giving money though. Which orgs gave the most money?"
   ]
  },
  {
   "cell_type": "code",
   "execution_count": 43,
   "metadata": {},
   "outputs": [
    {
     "data": {
      "text/html": [
       "<div>\n",
       "<style>\n",
       "    .dataframe thead tr:only-child th {\n",
       "        text-align: right;\n",
       "    }\n",
       "\n",
       "    .dataframe thead th {\n",
       "        text-align: left;\n",
       "    }\n",
       "\n",
       "    .dataframe tbody tr th {\n",
       "        vertical-align: top;\n",
       "    }\n",
       "</style>\n",
       "<table border=\"1\" class=\"dataframe\">\n",
       "  <thead>\n",
       "    <tr style=\"text-align: right;\">\n",
       "      <th></th>\n",
       "      <th>Cand_NamT</th>\n",
       "      <th>Cand_NamF</th>\n",
       "      <th>Cand_NamL</th>\n",
       "      <th>Cand_NamS</th>\n",
       "      <th>Tran_Amt1</th>\n",
       "    </tr>\n",
       "  </thead>\n",
       "  <tbody>\n",
       "    <tr>\n",
       "      <th>10060</th>\n",
       "      <td>NaN</td>\n",
       "      <td>NaN</td>\n",
       "      <td>n</td>\n",
       "      <td>NaN</td>\n",
       "      <td>20030527.0</td>\n",
       "    </tr>\n",
       "  </tbody>\n",
       "</table>\n",
       "</div>"
      ],
      "text/plain": [
       "       Cand_NamT Cand_NamF Cand_NamL  Cand_NamS   Tran_Amt1\n",
       "10060        NaN       NaN         n        NaN  20030527.0"
      ]
     },
     "execution_count": 43,
     "metadata": {},
     "output_type": "execute_result"
    }
   ],
   "source": [
    "fin_payees[pd.notnull(fin_payees['Cand_NamL'])]"
   ]
  },
  {
   "cell_type": "code",
   "execution_count": 28,
   "metadata": {},
   "outputs": [
    {
     "data": {
      "text/html": [
       "<div>\n",
       "<style>\n",
       "    .dataframe thead tr:only-child th {\n",
       "        text-align: right;\n",
       "    }\n",
       "\n",
       "    .dataframe thead th {\n",
       "        text-align: left;\n",
       "    }\n",
       "\n",
       "    .dataframe tbody tr th {\n",
       "        vertical-align: top;\n",
       "    }\n",
       "</style>\n",
       "<table border=\"1\" class=\"dataframe\">\n",
       "  <thead>\n",
       "    <tr style=\"text-align: right;\">\n",
       "      <th></th>\n",
       "      <th>Filer_NamL</th>\n",
       "      <th>Tran_Amt1</th>\n",
       "    </tr>\n",
       "  </thead>\n",
       "  <tbody>\n",
       "    <tr>\n",
       "      <th>0</th>\n",
       "      <td>12th A. D. Chinese American Democratic Club</td>\n",
       "      <td>250.0</td>\n",
       "    </tr>\n",
       "    <tr>\n",
       "      <th>1</th>\n",
       "      <td>12th A. D. Chinese American Democratic Club</td>\n",
       "      <td>4000.0</td>\n",
       "    </tr>\n",
       "    <tr>\n",
       "      <th>2</th>\n",
       "      <td>12th A. D. Democratic Club</td>\n",
       "      <td>300.0</td>\n",
       "    </tr>\n",
       "    <tr>\n",
       "      <th>3</th>\n",
       "      <td>12th A. D. Democratic Club</td>\n",
       "      <td>4000.0</td>\n",
       "    </tr>\n",
       "    <tr>\n",
       "      <th>4</th>\n",
       "      <td>12th A. D. Democratic Club</td>\n",
       "      <td>250.0</td>\n",
       "    </tr>\n",
       "  </tbody>\n",
       "</table>\n",
       "</div>"
      ],
      "text/plain": [
       "                                    Filer_NamL  Tran_Amt1\n",
       "0  12th A. D. Chinese American Democratic Club      250.0\n",
       "1  12th A. D. Chinese American Democratic Club     4000.0\n",
       "2                   12th A. D. Democratic Club      300.0\n",
       "3                   12th A. D. Democratic Club     4000.0\n",
       "4                   12th A. D. Democratic Club      250.0"
      ]
     },
     "execution_count": 28,
     "metadata": {},
     "output_type": "execute_result"
    }
   ],
   "source": [
    "fin_orgs = Finance.loc[:,[\"Filer_NamL\", \"Tran_Amt1\"]]\n",
    "fin_orgs.head()"
   ]
  },
  {
   "cell_type": "code",
   "execution_count": 48,
   "metadata": {},
   "outputs": [
    {
     "data": {
      "text/html": [
       "<div>\n",
       "<style>\n",
       "    .dataframe thead tr:only-child th {\n",
       "        text-align: right;\n",
       "    }\n",
       "\n",
       "    .dataframe thead th {\n",
       "        text-align: left;\n",
       "    }\n",
       "\n",
       "    .dataframe tbody tr th {\n",
       "        vertical-align: top;\n",
       "    }\n",
       "</style>\n",
       "<table border=\"1\" class=\"dataframe\">\n",
       "  <thead>\n",
       "    <tr style=\"text-align: right;\">\n",
       "      <th></th>\n",
       "      <th>Tran_Amt1</th>\n",
       "    </tr>\n",
       "    <tr>\n",
       "      <th>Filer_NamL</th>\n",
       "      <th></th>\n",
       "    </tr>\n",
       "  </thead>\n",
       "  <tbody>\n",
       "    <tr>\n",
       "      <th>Angela Alioto for Mayor 2003</th>\n",
       "      <td>60446189.50</td>\n",
       "    </tr>\n",
       "    <tr>\n",
       "      <th>NO ON V, ENOUGH IS ENOUGH: DON'T TAX OUR GROCERIES, WITH MAJOR FUNDING BY AMERICAN BEVERAGE ASSOCIATION CALIFORNIA PAC</th>\n",
       "      <td>22244347.02</td>\n",
       "    </tr>\n",
       "    <tr>\n",
       "      <th>Dennis Herrera for City Attorney 2015</th>\n",
       "      <td>20290904.92</td>\n",
       "    </tr>\n",
       "    <tr>\n",
       "      <th>COMMITTEE TO STOP THE BLANK CHECK, NO ON H, A COALITION OF CONCERNED CONSUMERS, SMALL BUSINESSES, LABOR, COMMUNITY ORGANIZATIONS AND PACIFIC GAS AND ELECTRIC COMPANY</th>\n",
       "      <td>9500100.00</td>\n",
       "    </tr>\n",
       "    <tr>\n",
       "      <th>NO ON E: STOP UNFAIR BEVERAGE TAXES, COALITION FOR AN AFFORDABLE CITY, WITH MAJOR FUNDING BY AMERICAN BEVERAGE ASSOCIATION CALIFORNIA PAC</th>\n",
       "      <td>9226152.54</td>\n",
       "    </tr>\n",
       "  </tbody>\n",
       "</table>\n",
       "</div>"
      ],
      "text/plain": [
       "                                                      Tran_Amt1\n",
       "Filer_NamL                                                     \n",
       "Angela Alioto for Mayor 2003                        60446189.50\n",
       "NO ON V, ENOUGH IS ENOUGH: DON'T TAX OUR GROCER...  22244347.02\n",
       "Dennis Herrera for City Attorney 2015               20290904.92\n",
       "COMMITTEE TO STOP THE BLANK CHECK, NO ON H, A C...   9500100.00\n",
       "NO ON E: STOP UNFAIR BEVERAGE TAXES, COALITION ...   9226152.54"
      ]
     },
     "execution_count": 48,
     "metadata": {},
     "output_type": "execute_result"
    }
   ],
   "source": [
    "fin_orgs.groupby(\"Filer_NamL\").sum().sort_values(\"Tran_Amt1\", ascending=False).head()"
   ]
  },
  {
   "cell_type": "markdown",
   "metadata": {},
   "source": [
    "Looks like Angela Alioto for Mayor 2003 by far had the most money on this list. Dang! This gets me thinking about years. What has campaign contribution looked like over time since 1998?\n",
    "\n",
    "We'll do it by year."
   ]
  },
  {
   "cell_type": "code",
   "execution_count": 35,
   "metadata": {},
   "outputs": [
    {
     "data": {
      "text/html": [
       "<div>\n",
       "<style>\n",
       "    .dataframe thead tr:only-child th {\n",
       "        text-align: right;\n",
       "    }\n",
       "\n",
       "    .dataframe thead th {\n",
       "        text-align: left;\n",
       "    }\n",
       "\n",
       "    .dataframe tbody tr th {\n",
       "        vertical-align: top;\n",
       "    }\n",
       "</style>\n",
       "<table border=\"1\" class=\"dataframe\">\n",
       "  <thead>\n",
       "    <tr style=\"text-align: right;\">\n",
       "      <th></th>\n",
       "      <th>From_Date</th>\n",
       "      <th>Tran_Amt1</th>\n",
       "    </tr>\n",
       "  </thead>\n",
       "  <tbody>\n",
       "    <tr>\n",
       "      <th>0</th>\n",
       "      <td>01/01/2002</td>\n",
       "      <td>250.0</td>\n",
       "    </tr>\n",
       "    <tr>\n",
       "      <th>1</th>\n",
       "      <td>01/01/2002</td>\n",
       "      <td>4000.0</td>\n",
       "    </tr>\n",
       "    <tr>\n",
       "      <th>2</th>\n",
       "      <td>01/01/2002</td>\n",
       "      <td>300.0</td>\n",
       "    </tr>\n",
       "    <tr>\n",
       "      <th>3</th>\n",
       "      <td>07/01/2003</td>\n",
       "      <td>4000.0</td>\n",
       "    </tr>\n",
       "    <tr>\n",
       "      <th>4</th>\n",
       "      <td>01/01/2002</td>\n",
       "      <td>250.0</td>\n",
       "    </tr>\n",
       "  </tbody>\n",
       "</table>\n",
       "</div>"
      ],
      "text/plain": [
       "    From_Date  Tran_Amt1\n",
       "0  01/01/2002      250.0\n",
       "1  01/01/2002     4000.0\n",
       "2  01/01/2002      300.0\n",
       "3  07/01/2003     4000.0\n",
       "4  01/01/2002      250.0"
      ]
     },
     "execution_count": 35,
     "metadata": {},
     "output_type": "execute_result"
    }
   ],
   "source": [
    "fin_time = Finance.loc[:, [\"From_Date\", \"Tran_Amt1\"]]\n",
    "fin_time.head()"
   ]
  },
  {
   "cell_type": "markdown",
   "metadata": {},
   "source": [
    "The following code extracts the year from the from date. Don't worry about it too much"
   ]
  },
  {
   "cell_type": "code",
   "execution_count": 47,
   "metadata": {},
   "outputs": [
    {
     "data": {
      "text/html": [
       "<div>\n",
       "<style>\n",
       "    .dataframe thead tr:only-child th {\n",
       "        text-align: right;\n",
       "    }\n",
       "\n",
       "    .dataframe thead th {\n",
       "        text-align: left;\n",
       "    }\n",
       "\n",
       "    .dataframe tbody tr th {\n",
       "        vertical-align: top;\n",
       "    }\n",
       "</style>\n",
       "<table border=\"1\" class=\"dataframe\">\n",
       "  <thead>\n",
       "    <tr style=\"text-align: right;\">\n",
       "      <th></th>\n",
       "      <th>Year</th>\n",
       "      <th>Tran_Amt1</th>\n",
       "    </tr>\n",
       "  </thead>\n",
       "  <tbody>\n",
       "    <tr>\n",
       "      <th>0</th>\n",
       "      <td></td>\n",
       "      <td>15550.00</td>\n",
       "    </tr>\n",
       "    <tr>\n",
       "      <th>1</th>\n",
       "      <td>1998</td>\n",
       "      <td>4599133.09</td>\n",
       "    </tr>\n",
       "    <tr>\n",
       "      <th>2</th>\n",
       "      <td>1999</td>\n",
       "      <td>8385647.35</td>\n",
       "    </tr>\n",
       "    <tr>\n",
       "      <th>3</th>\n",
       "      <td>2000</td>\n",
       "      <td>17559067.52</td>\n",
       "    </tr>\n",
       "    <tr>\n",
       "      <th>4</th>\n",
       "      <td>2001</td>\n",
       "      <td>4637898.20</td>\n",
       "    </tr>\n",
       "  </tbody>\n",
       "</table>\n",
       "</div>"
      ],
      "text/plain": [
       "   Year    Tran_Amt1\n",
       "0           15550.00\n",
       "1  1998   4599133.09\n",
       "2  1999   8385647.35\n",
       "3  2000  17559067.52\n",
       "4  2001   4637898.20"
      ]
     },
     "execution_count": 47,
     "metadata": {},
     "output_type": "execute_result"
    }
   ],
   "source": [
    "fin_time.loc[:, \"Year\"] = [str(d)[6:10] for d in fin_time['From_Date']]\n",
    "fin_year = fin_time[['Year', 'Tran_Amt1']].groupby('Year').sum().reset_index()\n",
    "fin_year.head()"
   ]
  },
  {
   "cell_type": "code",
   "execution_count": 32,
   "metadata": {},
   "outputs": [
    {
     "data": {
      "image/png": "[encoded data removed]",
      "text/plain": [
       "<matplotlib.figure.Figure at 0x129e8df28>"
      ]
     },
     "metadata": {
      "needs_background": "light"
     },
     "output_type": "display_data"
    }
   ],
   "source": [
    "plt.plot(fin_year['Year'], fin_year['Tran_Amt1']);"
   ]
  },
  {
   "cell_type": "markdown",
   "metadata": {},
   "source": [
    "There seem to be a few spikes during some years where a lot of money is being tossed around! Let's see when those are"
   ]
  },
  {
   "cell_type": "code",
   "execution_count": 33,
   "metadata": {},
   "outputs": [
    {
     "data": {
      "text/html": [
       "<div>\n",
       "<style>\n",
       "    .dataframe thead tr:only-child th {\n",
       "        text-align: right;\n",
       "    }\n",
       "\n",
       "    .dataframe thead th {\n",
       "        text-align: left;\n",
       "    }\n",
       "\n",
       "    .dataframe tbody tr th {\n",
       "        vertical-align: top;\n",
       "    }\n",
       "</style>\n",
       "<table border=\"1\" class=\"dataframe\">\n",
       "  <thead>\n",
       "    <tr style=\"text-align: right;\">\n",
       "      <th></th>\n",
       "      <th>Year</th>\n",
       "      <th>Tran_Amt1</th>\n",
       "    </tr>\n",
       "  </thead>\n",
       "  <tbody>\n",
       "    <tr>\n",
       "      <th>6</th>\n",
       "      <td>2003</td>\n",
       "      <td>7.239786e+07</td>\n",
       "    </tr>\n",
       "    <tr>\n",
       "      <th>19</th>\n",
       "      <td>2016</td>\n",
       "      <td>5.586994e+07</td>\n",
       "    </tr>\n",
       "    <tr>\n",
       "      <th>18</th>\n",
       "      <td>2015</td>\n",
       "      <td>4.582028e+07</td>\n",
       "    </tr>\n",
       "    <tr>\n",
       "      <th>21</th>\n",
       "      <td>2018</td>\n",
       "      <td>4.533975e+07</td>\n",
       "    </tr>\n",
       "    <tr>\n",
       "      <th>17</th>\n",
       "      <td>2014</td>\n",
       "      <td>2.337976e+07</td>\n",
       "    </tr>\n",
       "  </tbody>\n",
       "</table>\n",
       "</div>"
      ],
      "text/plain": [
       "    Year     Tran_Amt1\n",
       "6   2003  7.239786e+07\n",
       "19  2016  5.586994e+07\n",
       "18  2015  4.582028e+07\n",
       "21  2018  4.533975e+07\n",
       "17  2014  2.337976e+07"
      ]
     },
     "execution_count": 33,
     "metadata": {},
     "output_type": "execute_result"
    }
   ],
   "source": [
    "fin_year.sort_values('Tran_Amt1', ascending=False).head()"
   ]
  },
  {
   "cell_type": "markdown",
   "metadata": {},
   "source": [
    "This is in line with what we found out earlier about that 2003 election that got so much money!\n",
    "It's also unsurprising to see 2015-2016 up there (the last presidential election) and 2018 (the last midterm election)"
   ]
  },
  {
   "cell_type": "markdown",
   "metadata": {},
   "source": [
    "We can also look at it as a histogram to see the distribution of yearly transactions"
   ]
  },
  {
   "cell_type": "code",
   "execution_count": 34,
   "metadata": {},
   "outputs": [
    {
     "data": {
      "image/png": "[encoded data removed]",
      "text/plain": [
       "<matplotlib.figure.Figure at 0x148766630>"
      ]
     },
     "metadata": {
      "needs_background": "light"
     },
     "output_type": "display_data"
    }
   ],
   "source": [
    "plt.hist(fin_year['Tran_Amt1']);"
   ]
  },
  {
   "cell_type": "markdown",
   "metadata": {},
   "source": [
    "Most years see up to \\\\$10 million in donations or less total, but a few see as much as \\\\$70-\\\\$80 million (as we saw earlier)"
   ]
  },
  {
   "cell_type": "code",
   "execution_count": 45,
   "metadata": {},
   "outputs": [
    {
     "data": {
      "image/png": "[encoded data removed]",
      "text/plain": [
       "<matplotlib.figure.Figure at 0x14a31f160>"
      ]
     },
     "metadata": {},
     "output_type": "display_data"
    }
   ],
   "source": [
    "plt.pie(fin_year['Tran_Amt1'], labels = fin_year['Year']);"
   ]
  },
  {
   "cell_type": "code",
   "execution_count": null,
   "metadata": {},
   "outputs": [],
   "source": []
  }
 ],
 "metadata": {
  "kernelspec": {
   "display_name": "Python 3",
   "language": "python",
   "name": "python3"
  },
  "language_info": {
   "codemirror_mode": {
    "name": "ipython",
    "version": 3
   },
   "file_extension": ".py",
   "mimetype": "text/x-python",
   "name": "python",
   "nbconvert_exporter": "python",
   "pygments_lexer": "ipython3",
   "version": "3.6.6"
  }
 },
 "nbformat": 4,
 "nbformat_minor": 4
}

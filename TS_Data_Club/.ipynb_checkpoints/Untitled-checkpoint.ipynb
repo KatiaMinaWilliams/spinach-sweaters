{
 "cells": [
  {
   "cell_type": "code",
   "execution_count": 1,
   "metadata": {},
   "outputs": [],
   "source": [
    "import pandas as pd\n",
    "import numpy as np\n",
    "import datetime"
   ]
  },
  {
   "cell_type": "code",
   "execution_count": 4,
   "metadata": {},
   "outputs": [
    {
     "name": "stderr",
     "output_type": "stream",
     "text": [
      "/Users/katiawilliams/anaconda3/lib/python3.6/site-packages/IPython/core/interactiveshell.py:2698: DtypeWarning: Columns (0,16,17,22,26,28,31,32,33,34,35,36,39,40,41,42,43,44,45,48,49,50,51,52,54,55,58,59,60,61,63,67,68,69,73,74,76,77) have mixed types. Specify dtype option on import or set low_memory=False.\n",
      "  interactivity=interactivity, compiler=compiler, result=result)\n"
     ]
    },
    {
     "data": {
      "text/html": [
       "<div>\n",
       "<style>\n",
       "    .dataframe thead tr:only-child th {\n",
       "        text-align: right;\n",
       "    }\n",
       "\n",
       "    .dataframe thead th {\n",
       "        text-align: left;\n",
       "    }\n",
       "\n",
       "    .dataframe tbody tr th {\n",
       "        vertical-align: top;\n",
       "    }\n",
       "</style>\n",
       "<table border=\"1\" class=\"dataframe\">\n",
       "  <thead>\n",
       "    <tr style=\"text-align: right;\">\n",
       "      <th></th>\n",
       "      <th>Filer_ID</th>\n",
       "      <th>Filer_NamL</th>\n",
       "      <th>Report_Num</th>\n",
       "      <th>Committee_Type</th>\n",
       "      <th>Rpt_Date</th>\n",
       "      <th>From_Date</th>\n",
       "      <th>Thru_Date</th>\n",
       "      <th>Elect_Date</th>\n",
       "      <th>tblCover_Office_Cd</th>\n",
       "      <th>tblCover_Offic_Dscr</th>\n",
       "      <th>...</th>\n",
       "      <th>Memo_Code</th>\n",
       "      <th>Memo_RefNo</th>\n",
       "      <th>BakRef_TID</th>\n",
       "      <th>XRef_SchNm</th>\n",
       "      <th>XRef_Match</th>\n",
       "      <th>Loan_Rate</th>\n",
       "      <th>Int_CmteId</th>\n",
       "      <th>Tran_Location</th>\n",
       "      <th>Tres_Location</th>\n",
       "      <th>Intr_Location</th>\n",
       "    </tr>\n",
       "  </thead>\n",
       "  <tbody>\n",
       "    <tr>\n",
       "      <th>0</th>\n",
       "      <td>1249382</td>\n",
       "      <td>12th A. D. Chinese American Democratic Club</td>\n",
       "      <td>0</td>\n",
       "      <td>RCP</td>\n",
       "      <td>01/28/2003</td>\n",
       "      <td>01/01/2002</td>\n",
       "      <td>12/31/2002</td>\n",
       "      <td>NaN</td>\n",
       "      <td>NaN</td>\n",
       "      <td>NaN</td>\n",
       "      <td>...</td>\n",
       "      <td>NaN</td>\n",
       "      <td>NaN</td>\n",
       "      <td>NaN</td>\n",
       "      <td>NaN</td>\n",
       "      <td>NaN</td>\n",
       "      <td>NaN</td>\n",
       "      <td>NaN</td>\n",
       "      <td>94127(37.735395, -122.460584)</td>\n",
       "      <td>NaN</td>\n",
       "      <td>NaN</td>\n",
       "    </tr>\n",
       "    <tr>\n",
       "      <th>1</th>\n",
       "      <td>1249382</td>\n",
       "      <td>12th A. D. Chinese American Democratic Club</td>\n",
       "      <td>0</td>\n",
       "      <td>RCP</td>\n",
       "      <td>01/28/2003</td>\n",
       "      <td>01/01/2002</td>\n",
       "      <td>12/31/2002</td>\n",
       "      <td>NaN</td>\n",
       "      <td>NaN</td>\n",
       "      <td>NaN</td>\n",
       "      <td>...</td>\n",
       "      <td>NaN</td>\n",
       "      <td>NaN</td>\n",
       "      <td>NaN</td>\n",
       "      <td>NaN</td>\n",
       "      <td>NaN</td>\n",
       "      <td>NaN</td>\n",
       "      <td>NaN</td>\n",
       "      <td>94104(37.791405, -122.402029)</td>\n",
       "      <td>NaN</td>\n",
       "      <td>NaN</td>\n",
       "    </tr>\n",
       "    <tr>\n",
       "      <th>2</th>\n",
       "      <td>1250153</td>\n",
       "      <td>12th A. D. Democratic Club</td>\n",
       "      <td>0</td>\n",
       "      <td>RCP</td>\n",
       "      <td>01/28/2003</td>\n",
       "      <td>01/01/2002</td>\n",
       "      <td>12/31/2002</td>\n",
       "      <td>NaN</td>\n",
       "      <td>NaN</td>\n",
       "      <td>NaN</td>\n",
       "      <td>...</td>\n",
       "      <td>NaN</td>\n",
       "      <td>NaN</td>\n",
       "      <td>NaN</td>\n",
       "      <td>NaN</td>\n",
       "      <td>NaN</td>\n",
       "      <td>NaN</td>\n",
       "      <td>NaN</td>\n",
       "      <td>94112(37.720647, -122.442853)</td>\n",
       "      <td>NaN</td>\n",
       "      <td>NaN</td>\n",
       "    </tr>\n",
       "    <tr>\n",
       "      <th>3</th>\n",
       "      <td>1250153</td>\n",
       "      <td>12th A. D. Democratic Club</td>\n",
       "      <td>0</td>\n",
       "      <td>RCP</td>\n",
       "      <td>01/08/2004</td>\n",
       "      <td>07/01/2003</td>\n",
       "      <td>12/31/2003</td>\n",
       "      <td>NaN</td>\n",
       "      <td>NaN</td>\n",
       "      <td>NaN</td>\n",
       "      <td>...</td>\n",
       "      <td>NaN</td>\n",
       "      <td>NaN</td>\n",
       "      <td>NaN</td>\n",
       "      <td>NaN</td>\n",
       "      <td>NaN</td>\n",
       "      <td>NaN</td>\n",
       "      <td>NaN</td>\n",
       "      <td>94103(37.772469, -122.411853)</td>\n",
       "      <td>NaN</td>\n",
       "      <td>NaN</td>\n",
       "    </tr>\n",
       "    <tr>\n",
       "      <th>4</th>\n",
       "      <td>1250153</td>\n",
       "      <td>12th A. D. Democratic Club</td>\n",
       "      <td>0</td>\n",
       "      <td>RCP</td>\n",
       "      <td>01/28/2003</td>\n",
       "      <td>01/01/2002</td>\n",
       "      <td>12/31/2002</td>\n",
       "      <td>NaN</td>\n",
       "      <td>NaN</td>\n",
       "      <td>NaN</td>\n",
       "      <td>...</td>\n",
       "      <td>NaN</td>\n",
       "      <td>NaN</td>\n",
       "      <td>NaN</td>\n",
       "      <td>NaN</td>\n",
       "      <td>NaN</td>\n",
       "      <td>NaN</td>\n",
       "      <td>NaN</td>\n",
       "      <td>94122(37.761208, -122.48469)</td>\n",
       "      <td>NaN</td>\n",
       "      <td>NaN</td>\n",
       "    </tr>\n",
       "  </tbody>\n",
       "</table>\n",
       "<p>5 rows × 78 columns</p>\n",
       "</div>"
      ],
      "text/plain": [
       "  Filer_ID                                   Filer_NamL  Report_Num  \\\n",
       "0  1249382  12th A. D. Chinese American Democratic Club           0   \n",
       "1  1249382  12th A. D. Chinese American Democratic Club           0   \n",
       "2  1250153                   12th A. D. Democratic Club           0   \n",
       "3  1250153                   12th A. D. Democratic Club           0   \n",
       "4  1250153                   12th A. D. Democratic Club           0   \n",
       "\n",
       "  Committee_Type    Rpt_Date   From_Date   Thru_Date Elect_Date  \\\n",
       "0            RCP  01/28/2003  01/01/2002  12/31/2002        NaN   \n",
       "1            RCP  01/28/2003  01/01/2002  12/31/2002        NaN   \n",
       "2            RCP  01/28/2003  01/01/2002  12/31/2002        NaN   \n",
       "3            RCP  01/08/2004  07/01/2003  12/31/2003        NaN   \n",
       "4            RCP  01/28/2003  01/01/2002  12/31/2002        NaN   \n",
       "\n",
       "   tblCover_Office_Cd  tblCover_Offic_Dscr      ...       Memo_Code  \\\n",
       "0                 NaN                  NaN      ...             NaN   \n",
       "1                 NaN                  NaN      ...             NaN   \n",
       "2                 NaN                  NaN      ...             NaN   \n",
       "3                 NaN                  NaN      ...             NaN   \n",
       "4                 NaN                  NaN      ...             NaN   \n",
       "\n",
       "  Memo_RefNo BakRef_TID XRef_SchNm XRef_Match Loan_Rate Int_CmteId  \\\n",
       "0        NaN        NaN        NaN        NaN       NaN        NaN   \n",
       "1        NaN        NaN        NaN        NaN       NaN        NaN   \n",
       "2        NaN        NaN        NaN        NaN       NaN        NaN   \n",
       "3        NaN        NaN        NaN        NaN       NaN        NaN   \n",
       "4        NaN        NaN        NaN        NaN       NaN        NaN   \n",
       "\n",
       "                   Tran_Location  Tres_Location  Intr_Location  \n",
       "0  94127(37.735395, -122.460584)            NaN            NaN  \n",
       "1  94104(37.791405, -122.402029)            NaN            NaN  \n",
       "2  94112(37.720647, -122.442853)            NaN            NaN  \n",
       "3  94103(37.772469, -122.411853)            NaN            NaN  \n",
       "4   94122(37.761208, -122.48469)            NaN            NaN  \n",
       "\n",
       "[5 rows x 78 columns]"
      ]
     },
     "execution_count": 4,
     "metadata": {},
     "output_type": "execute_result"
    }
   ],
   "source": [
    "Finance = pd.read_csv(\"Campaign_Finance_-_FPPC_Form_460_-_Schedule_A_-_Monetary_Contributions.csv\")\n",
    "Finance.head()"
   ]
  },
  {
   "cell_type": "code",
   "execution_count": 6,
   "metadata": {
    "collapsed": true,
    "jupyter": {
     "outputs_hidden": true
    }
   },
   "outputs": [
    {
     "data": {
      "text/plain": [
       "Index(['Filer_ID', 'Filer_NamL', 'Report_Num', 'Committee_Type', 'Rpt_Date',\n",
       "       'From_Date', 'Thru_Date', 'Elect_Date', 'tblCover_Office_Cd',\n",
       "       'tblCover_Offic_Dscr', 'Rec_Type', 'Form_Type', 'Tran_ID', 'Entity_Cd',\n",
       "       'Tran_NamL', 'Tran_NamF', 'Tran_NamT', 'Tran_NamS', 'Tran_Adr1',\n",
       "       'Tran_Adr2', 'Tran_City', 'Tran_State', 'Tran_Zip4', 'Tran_Emp',\n",
       "       'Tran_Occ', 'Tran_Self', 'Tran_Type', 'Tran_Date', 'Tran_Date1',\n",
       "       'Tran_Amt1', 'Tran_Amt2', 'Tran_Dscr', 'Cmte_ID', 'Tres_NamL',\n",
       "       'Tres_NamF', 'Tres_NamT', 'Tres_NamS', 'Tres_Adr1', 'Tres_Adr2',\n",
       "       'Tres_City', 'Tres_State', 'Tres_Zip', 'Intr_NamL', 'Intr_NamF',\n",
       "       'Intr_NamT', 'Intr_NamS', 'Intr_Adr1', 'Intr_Adr2', 'Intr_City',\n",
       "       'Intr_State', 'Intr_Zip4', 'Intr_Emp', 'Intr_Occ', 'Intr_Self',\n",
       "       'Cand_NamL', 'Cand_NamF', 'Cand_NamT', 'Cand_NamS',\n",
       "       'tblDetlTran_Office_Cd', 'tblDetlTran_Offic_Dscr', 'Juris_Cd',\n",
       "       'Juris_Dscr', 'Dist_No', 'Off_S_H_Cd', 'Bal_Name', 'Bal_Num',\n",
       "       'Bal_Juris', 'Sup_Opp_Cd', 'Memo_Code', 'Memo_RefNo', 'BakRef_TID',\n",
       "       'XRef_SchNm', 'XRef_Match', 'Loan_Rate', 'Int_CmteId', 'Tran_Location',\n",
       "       'Tres_Location', 'Intr_Location'],\n",
       "      dtype='object')"
      ]
     },
     "execution_count": 6,
     "metadata": {},
     "output_type": "execute_result"
    }
   ],
   "source": [
    "Finance.columns"
   ]
  },
  {
   "cell_type": "markdown",
   "metadata": {},
   "source": [
    "Let's see who's getting the most funding!\n",
    "\n",
    "We check the docs and see the column types with \"payee\" in them. That's a good sign! We'll also take \"Tran_Amt1\"\n",
    "\n"
   ]
  },
  {
   "cell_type": "code",
   "execution_count": 13,
   "metadata": {},
   "outputs": [
    {
     "data": {
      "text/html": [
       "<div>\n",
       "<style>\n",
       "    .dataframe thead tr:only-child th {\n",
       "        text-align: right;\n",
       "    }\n",
       "\n",
       "    .dataframe thead th {\n",
       "        text-align: left;\n",
       "    }\n",
       "\n",
       "    .dataframe tbody tr th {\n",
       "        vertical-align: top;\n",
       "    }\n",
       "</style>\n",
       "<table border=\"1\" class=\"dataframe\">\n",
       "  <thead>\n",
       "    <tr style=\"text-align: right;\">\n",
       "      <th></th>\n",
       "      <th>Payee_NamT</th>\n",
       "      <th>Payee_NamF</th>\n",
       "      <th>Payee_NamL</th>\n",
       "      <th>Payee_NamS</th>\n",
       "      <th>Tran_Amt1</th>\n",
       "    </tr>\n",
       "  </thead>\n",
       "  <tbody>\n",
       "    <tr>\n",
       "      <th>0</th>\n",
       "      <td>NaN</td>\n",
       "      <td>NaN</td>\n",
       "      <td>NaN</td>\n",
       "      <td>NaN</td>\n",
       "      <td>250.0</td>\n",
       "    </tr>\n",
       "    <tr>\n",
       "      <th>1</th>\n",
       "      <td>NaN</td>\n",
       "      <td>NaN</td>\n",
       "      <td>NaN</td>\n",
       "      <td>NaN</td>\n",
       "      <td>4000.0</td>\n",
       "    </tr>\n",
       "    <tr>\n",
       "      <th>2</th>\n",
       "      <td>NaN</td>\n",
       "      <td>NaN</td>\n",
       "      <td>NaN</td>\n",
       "      <td>NaN</td>\n",
       "      <td>300.0</td>\n",
       "    </tr>\n",
       "    <tr>\n",
       "      <th>3</th>\n",
       "      <td>NaN</td>\n",
       "      <td>NaN</td>\n",
       "      <td>NaN</td>\n",
       "      <td>NaN</td>\n",
       "      <td>4000.0</td>\n",
       "    </tr>\n",
       "    <tr>\n",
       "      <th>4</th>\n",
       "      <td>NaN</td>\n",
       "      <td>NaN</td>\n",
       "      <td>NaN</td>\n",
       "      <td>NaN</td>\n",
       "      <td>250.0</td>\n",
       "    </tr>\n",
       "  </tbody>\n",
       "</table>\n",
       "</div>"
      ],
      "text/plain": [
       "   Payee_NamT  Payee_NamF  Payee_NamL  Payee_NamS  Tran_Amt1\n",
       "0         NaN         NaN         NaN         NaN      250.0\n",
       "1         NaN         NaN         NaN         NaN     4000.0\n",
       "2         NaN         NaN         NaN         NaN      300.0\n",
       "3         NaN         NaN         NaN         NaN     4000.0\n",
       "4         NaN         NaN         NaN         NaN      250.0"
      ]
     },
     "execution_count": 13,
     "metadata": {},
     "output_type": "execute_result"
    }
   ],
   "source": [
    "fin_payees = Finance.loc[:,[\"Payee_NamT\", \"Payee_NamF\", \"Payee_NamL\", \"Payee_NamS\", \"Tran_Amt1\"]]\n",
    "fin_payees.head()"
   ]
  },
  {
   "cell_type": "markdown",
   "metadata": {},
   "source": [
    "Oh no! They don't give us the payee names! Interesting...\n",
    "\n",
    "Quick sanity check: How many rows don't have a payee last name compared to the total number of rows?"
   ]
  },
  {
   "cell_type": "code",
   "execution_count": 16,
   "metadata": {},
   "outputs": [
    {
     "data": {
      "text/plain": [
       "359922"
      ]
     },
     "execution_count": 16,
     "metadata": {},
     "output_type": "execute_result"
    }
   ],
   "source": [
    "len(fin_payees[pd.isnull(fin_payees['Payee_NamL'])])"
   ]
  },
  {
   "cell_type": "code",
   "execution_count": 17,
   "metadata": {},
   "outputs": [
    {
     "data": {
      "text/plain": [
       "359922"
      ]
     },
     "execution_count": 17,
     "metadata": {},
     "output_type": "execute_result"
    }
   ],
   "source": [
    "len(fin_payees)"
   ]
  },
  {
   "cell_type": "markdown",
   "metadata": {},
   "source": [
    "They are all null. Superb, no one reports on who they're giving to!\n",
    "\n",
    "Maybe we can get some information from the organizations giving money though. Which orgs gave the most money?"
   ]
  },
  {
   "cell_type": "code",
   "execution_count": 18,
   "metadata": {},
   "outputs": [
    {
     "data": {
      "text/html": [
       "<div>\n",
       "<style>\n",
       "    .dataframe thead tr:only-child th {\n",
       "        text-align: right;\n",
       "    }\n",
       "\n",
       "    .dataframe thead th {\n",
       "        text-align: left;\n",
       "    }\n",
       "\n",
       "    .dataframe tbody tr th {\n",
       "        vertical-align: top;\n",
       "    }\n",
       "</style>\n",
       "<table border=\"1\" class=\"dataframe\">\n",
       "  <thead>\n",
       "    <tr style=\"text-align: right;\">\n",
       "      <th></th>\n",
       "      <th>Filer_NamL</th>\n",
       "      <th>Tran_Amt1</th>\n",
       "    </tr>\n",
       "  </thead>\n",
       "  <tbody>\n",
       "    <tr>\n",
       "      <th>0</th>\n",
       "      <td>12th A. D. Chinese American Democratic Club</td>\n",
       "      <td>250.0</td>\n",
       "    </tr>\n",
       "    <tr>\n",
       "      <th>1</th>\n",
       "      <td>12th A. D. Chinese American Democratic Club</td>\n",
       "      <td>4000.0</td>\n",
       "    </tr>\n",
       "    <tr>\n",
       "      <th>2</th>\n",
       "      <td>12th A. D. Democratic Club</td>\n",
       "      <td>300.0</td>\n",
       "    </tr>\n",
       "    <tr>\n",
       "      <th>3</th>\n",
       "      <td>12th A. D. Democratic Club</td>\n",
       "      <td>4000.0</td>\n",
       "    </tr>\n",
       "    <tr>\n",
       "      <th>4</th>\n",
       "      <td>12th A. D. Democratic Club</td>\n",
       "      <td>250.0</td>\n",
       "    </tr>\n",
       "  </tbody>\n",
       "</table>\n",
       "</div>"
      ],
      "text/plain": [
       "                                    Filer_NamL  Tran_Amt1\n",
       "0  12th A. D. Chinese American Democratic Club      250.0\n",
       "1  12th A. D. Chinese American Democratic Club     4000.0\n",
       "2                   12th A. D. Democratic Club      300.0\n",
       "3                   12th A. D. Democratic Club     4000.0\n",
       "4                   12th A. D. Democratic Club      250.0"
      ]
     },
     "execution_count": 18,
     "metadata": {},
     "output_type": "execute_result"
    }
   ],
   "source": [
    "fin_orgs = Finance.loc[:,[\"Filer_NamL\", \"Tran_Amt1\"]]\n",
    "fin_orgs.head()"
   ]
  },
  {
   "cell_type": "code",
   "execution_count": null,
   "metadata": {},
   "outputs": [],
   "source": []
  },
  {
   "cell_type": "code",
   "execution_count": null,
   "metadata": {},
   "outputs": [],
   "source": []
  }
 ],
 "metadata": {
  "kernelspec": {
   "display_name": "Python 3",
   "language": "python",
   "name": "python3"
  },
  "language_info": {
   "codemirror_mode": {
    "name": "ipython",
    "version": 3
   },
   "file_extension": ".py",
   "mimetype": "text/x-python",
   "name": "python",
   "nbconvert_exporter": "python",
   "pygments_lexer": "ipython3",
   "version": "3.6.6"
  }
 },
 "nbformat": 4,
 "nbformat_minor": 4
}

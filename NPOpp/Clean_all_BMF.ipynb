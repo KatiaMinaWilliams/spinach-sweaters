{
 "cells": [
  {
   "cell_type": "markdown",
   "metadata": {},
   "source": [
    "# The purpose of this notebook is to turn the clean_and_merge notebook into a set of functions to process other BMF files. \n",
    "\n",
    "## This will in turn give us better timeline data"
   ]
  },
  {
   "cell_type": "code",
   "execution_count": 1,
   "metadata": {},
   "outputs": [],
   "source": [
    "import pandas as pd\n",
    "import numpy as np\n",
    "import os"
   ]
  },
  {
   "cell_type": "code",
   "execution_count": 2,
   "metadata": {},
   "outputs": [
    {
     "name": "stderr",
     "output_type": "stream",
     "text": [
      "/Users/katiawilliams/anaconda3/lib/python3.6/site-packages/IPython/core/interactiveshell.py:2698: DtypeWarning: Columns (18) have mixed types. Specify dtype option on import or set low_memory=False.\n",
      "  interactivity=interactivity, compiler=compiler, result=result)\n"
     ]
    },
    {
     "data": {
      "text/plain": [
       "Index(['EIN', 'ASSETS', 'CITY', 'FILER', 'FIPS', 'FNDNCD', 'INCOME', 'LEVEL1',\n",
       "       'LEVEL2', 'LEVEL3', 'LEVEL4', 'MAJGRPB', 'MSA_NECH', 'NAME', 'NTEE1',\n",
       "       'NTEECC', 'NTEESRC', 'OUTNCCS', 'OUTREAS', 'PMSA', 'RANDNUM', 'STATE',\n",
       "       'SUBSECCD', 'ZIP5', 'NTEECONF', 'NTEEFINAL', 'NTEEFINAL1', 'NTMAJ10',\n",
       "       'NTMAJ12', 'NTMAJ5'],\n",
       "      dtype='object')"
      ]
     },
     "execution_count": 2,
     "metadata": {},
     "output_type": "execute_result"
    }
   ],
   "source": [
    "cols = pd.read_csv(\"big_data.nosync/BMF_2015_cleaned.csv\").columns\n",
    "cols"
   ]
  },
  {
   "cell_type": "markdown",
   "metadata": {},
   "source": [
    "Next, changing everything from the last notebook into functions"
   ]
  },
  {
   "cell_type": "code",
   "execution_count": 3,
   "metadata": {},
   "outputs": [],
   "source": [
    "def open_combine_squish(location, ID):\n",
    "    #Takes a str location and a str ID (col name)\n",
    "    #Location includes /\n",
    "    #Returns a df containing all data from csvs in location, grouped by col name ID (first instance)\n",
    "    \n",
    "    #This makes an empty table\n",
    "    output = pd.DataFrame([])\n",
    "\n",
    "    #This goes through the individual files and adds them to the table\n",
    "    for filename in os.listdir(location):\n",
    "         output = output.append(pd.read_csv(location+filename, low_memory=False))\n",
    "    \n",
    "    output = output.groupby(ID).first()\n",
    "    return output\n",
    "\n",
    "def only_state(df, state):\n",
    "    #Takes a dataframe with a column name \"STATE\"\n",
    "    #Returns that dataframe where \"STATE\" is state\n",
    "    \n",
    "    return df[df['STATE'] == state]\n",
    "\n",
    "def overlap_columns(df):\n",
    "    #Changes all DF colnames to caps, keeps only columns that overlap with BMF 2015 and BMF 1989\n",
    "    \n",
    "    df.columns = map(str.upper, df.columns)\n",
    "    overlap = [x for x in df.columns if x in cols]\n",
    "    return df[overlap]"
   ]
  },
  {
   "cell_type": "code",
   "execution_count": 4,
   "metadata": {},
   "outputs": [],
   "source": [
    "#Here are all the BMF files we're working with\n",
    "\n",
    "single_files = [\"bmf.bm9508.csv\", \"bmf.bm9606.csv\", \"bmf.bm9710.csv\", \"bmf.bm9809.csv\", \"bmf.bm9912.csv\",\n",
    "               \"bmf.bm0005.csv\", \"bmf.bm0107.csv\"]\n",
    "folders = [\"2002_BMF\"]\n",
    "years = [\"1995\", \"1996\", \"1997\", \"1998\", \"1999\", \"2000\", \"2001\", \"2002\"]"
   ]
  },
  {
   "cell_type": "code",
   "execution_count": 5,
   "metadata": {},
   "outputs": [
    {
     "name": "stderr",
     "output_type": "stream",
     "text": [
      "/Users/katiawilliams/anaconda3/lib/python3.6/site-packages/IPython/core/interactiveshell.py:2698: DtypeWarning: Columns (15,24) have mixed types. Specify dtype option on import or set low_memory=False.\n",
      "  interactivity=interactivity, compiler=compiler, result=result)\n"
     ]
    }
   ],
   "source": [
    "BMFs = {}\n",
    "for file in single_files:\n",
    "    tmp = pd.read_csv(\"big_data.nosync/\"+file)\n",
    "    tmp = only_state(tmp, \"CA\")\n",
    "    tmp = overlap_columns(tmp)\n",
    "    BMFs.update({file: tmp})"
   ]
  },
  {
   "cell_type": "code",
   "execution_count": 6,
   "metadata": {},
   "outputs": [
    {
     "data": {
      "text/html": [
       "<div>\n",
       "<style>\n",
       "    .dataframe thead tr:only-child th {\n",
       "        text-align: right;\n",
       "    }\n",
       "\n",
       "    .dataframe thead th {\n",
       "        text-align: left;\n",
       "    }\n",
       "\n",
       "    .dataframe tbody tr th {\n",
       "        vertical-align: top;\n",
       "    }\n",
       "</style>\n",
       "<table border=\"1\" class=\"dataframe\">\n",
       "  <thead>\n",
       "    <tr style=\"text-align: right;\">\n",
       "      <th></th>\n",
       "      <th>EIN</th>\n",
       "      <th>NAME</th>\n",
       "      <th>CITY</th>\n",
       "      <th>STATE</th>\n",
       "      <th>FNDNCD</th>\n",
       "      <th>SUBSECCD</th>\n",
       "      <th>ASSETS</th>\n",
       "      <th>INCOME</th>\n",
       "      <th>ZIP5</th>\n",
       "      <th>FIPS</th>\n",
       "      <th>...</th>\n",
       "      <th>OUTNCCS</th>\n",
       "      <th>OUTREAS</th>\n",
       "      <th>NTEESRC</th>\n",
       "      <th>NTMAJ10</th>\n",
       "      <th>NTMAJ12</th>\n",
       "      <th>NTMAJ5</th>\n",
       "      <th>FILER</th>\n",
       "      <th>RANDNUM</th>\n",
       "      <th>NTEEFINAL</th>\n",
       "      <th>NTEEFINAL1</th>\n",
       "    </tr>\n",
       "  </thead>\n",
       "  <tbody>\n",
       "    <tr>\n",
       "      <th>416265</th>\n",
       "      <td>581978297</td>\n",
       "      <td>PHI THETA KAPPA SOCIETY</td>\n",
       "      <td>WOODLAND HILLS</td>\n",
       "      <td>CA</td>\n",
       "      <td>15</td>\n",
       "      <td>3</td>\n",
       "      <td>0</td>\n",
       "      <td>0</td>\n",
       "      <td>91367</td>\n",
       "      <td>28049.0</td>\n",
       "      <td>...</td>\n",
       "      <td>IN</td>\n",
       "      <td>NaN</td>\n",
       "      <td>Q</td>\n",
       "      <td>ED</td>\n",
       "      <td>ED</td>\n",
       "      <td>ED</td>\n",
       "      <td>NaN</td>\n",
       "      <td>0.31441</td>\n",
       "      <td>B83</td>\n",
       "      <td>B</td>\n",
       "    </tr>\n",
       "    <tr>\n",
       "      <th>908846</th>\n",
       "      <td>237013557</td>\n",
       "      <td>WORLD WIDE FELLOWSHIP OF THE LIVING GOSPEL BRO...</td>\n",
       "      <td>LOS ANGELES</td>\n",
       "      <td>CA</td>\n",
       "      <td>10</td>\n",
       "      <td>3</td>\n",
       "      <td>0</td>\n",
       "      <td>0</td>\n",
       "      <td>90001</td>\n",
       "      <td>6037.0</td>\n",
       "      <td>...</td>\n",
       "      <td>IN</td>\n",
       "      <td>NaN</td>\n",
       "      <td>Q</td>\n",
       "      <td>PU</td>\n",
       "      <td>PU</td>\n",
       "      <td>OT</td>\n",
       "      <td>NaN</td>\n",
       "      <td>0.50810</td>\n",
       "      <td>S82</td>\n",
       "      <td>S</td>\n",
       "    </tr>\n",
       "    <tr>\n",
       "      <th>908847</th>\n",
       "      <td>237076031</td>\n",
       "      <td>EVANGELISTIC FELLOWSHIP CENTER CHURCH OF LOS A...</td>\n",
       "      <td>LOS ANGELES</td>\n",
       "      <td>CA</td>\n",
       "      <td>10</td>\n",
       "      <td>3</td>\n",
       "      <td>0</td>\n",
       "      <td>0</td>\n",
       "      <td>90001</td>\n",
       "      <td>6037.0</td>\n",
       "      <td>...</td>\n",
       "      <td>IN</td>\n",
       "      <td>NaN</td>\n",
       "      <td>Q</td>\n",
       "      <td>RE</td>\n",
       "      <td>RE</td>\n",
       "      <td>OT</td>\n",
       "      <td>NaN</td>\n",
       "      <td>0.48290</td>\n",
       "      <td>X21</td>\n",
       "      <td>X</td>\n",
       "    </tr>\n",
       "    <tr>\n",
       "      <th>908848</th>\n",
       "      <td>237140276</td>\n",
       "      <td>SAINT JOHN SPIRITUAL CHURCH OF CHRIST INC</td>\n",
       "      <td>LOS ANGELES</td>\n",
       "      <td>CA</td>\n",
       "      <td>10</td>\n",
       "      <td>3</td>\n",
       "      <td>0</td>\n",
       "      <td>0</td>\n",
       "      <td>90001</td>\n",
       "      <td>6037.0</td>\n",
       "      <td>...</td>\n",
       "      <td>IN</td>\n",
       "      <td>NaN</td>\n",
       "      <td>Q</td>\n",
       "      <td>RE</td>\n",
       "      <td>RE</td>\n",
       "      <td>OT</td>\n",
       "      <td>NaN</td>\n",
       "      <td>0.89019</td>\n",
       "      <td>X21</td>\n",
       "      <td>X</td>\n",
       "    </tr>\n",
       "    <tr>\n",
       "      <th>908849</th>\n",
       "      <td>237276317</td>\n",
       "      <td>LIVING GOSPEL FELLOWSHIP DELIVERANCE CHURCHES</td>\n",
       "      <td>LOS ANGELES</td>\n",
       "      <td>CA</td>\n",
       "      <td>10</td>\n",
       "      <td>3</td>\n",
       "      <td>0</td>\n",
       "      <td>0</td>\n",
       "      <td>90001</td>\n",
       "      <td>6037.0</td>\n",
       "      <td>...</td>\n",
       "      <td>IN</td>\n",
       "      <td>NaN</td>\n",
       "      <td>Q</td>\n",
       "      <td>PU</td>\n",
       "      <td>PU</td>\n",
       "      <td>OT</td>\n",
       "      <td>NaN</td>\n",
       "      <td>0.00225</td>\n",
       "      <td>X20</td>\n",
       "      <td>X</td>\n",
       "    </tr>\n",
       "  </tbody>\n",
       "</table>\n",
       "<p>5 rows × 30 columns</p>\n",
       "</div>"
      ],
      "text/plain": [
       "              EIN                                               NAME  \\\n",
       "416265  581978297                            PHI THETA KAPPA SOCIETY   \n",
       "908846  237013557  WORLD WIDE FELLOWSHIP OF THE LIVING GOSPEL BRO...   \n",
       "908847  237076031  EVANGELISTIC FELLOWSHIP CENTER CHURCH OF LOS A...   \n",
       "908848  237140276          SAINT JOHN SPIRITUAL CHURCH OF CHRIST INC   \n",
       "908849  237276317      LIVING GOSPEL FELLOWSHIP DELIVERANCE CHURCHES   \n",
       "\n",
       "                  CITY STATE  FNDNCD  SUBSECCD  ASSETS  INCOME   ZIP5  \\\n",
       "416265  WOODLAND HILLS    CA      15         3       0       0  91367   \n",
       "908846     LOS ANGELES    CA      10         3       0       0  90001   \n",
       "908847     LOS ANGELES    CA      10         3       0       0  90001   \n",
       "908848     LOS ANGELES    CA      10         3       0       0  90001   \n",
       "908849     LOS ANGELES    CA      10         3       0       0  90001   \n",
       "\n",
       "           FIPS    ...      OUTNCCS  OUTREAS NTEESRC NTMAJ10 NTMAJ12 NTMAJ5  \\\n",
       "416265  28049.0    ...           IN      NaN       Q      ED      ED     ED   \n",
       "908846   6037.0    ...           IN      NaN       Q      PU      PU     OT   \n",
       "908847   6037.0    ...           IN      NaN       Q      RE      RE     OT   \n",
       "908848   6037.0    ...           IN      NaN       Q      RE      RE     OT   \n",
       "908849   6037.0    ...           IN      NaN       Q      PU      PU     OT   \n",
       "\n",
       "       FILER  RANDNUM NTEEFINAL NTEEFINAL1  \n",
       "416265   NaN  0.31441       B83          B  \n",
       "908846   NaN  0.50810       S82          S  \n",
       "908847   NaN  0.48290       X21          X  \n",
       "908848   NaN  0.89019       X21          X  \n",
       "908849   NaN  0.00225       X20          X  \n",
       "\n",
       "[5 rows x 30 columns]"
      ]
     },
     "execution_count": 6,
     "metadata": {},
     "output_type": "execute_result"
    }
   ],
   "source": [
    "BMFs.get(\"bmf.bm9508.csv\").head()"
   ]
  },
  {
   "cell_type": "code",
   "execution_count": 7,
   "metadata": {},
   "outputs": [],
   "source": [
    "for folder in folders:\n",
    "    tmp = open_combine_squish(\"big_data.nosync/\"+folder+\"/\", \"EIN\")\n",
    "    tmp = only_state(tmp, \"CA\")\n",
    "    tmp = overlap_columns(tmp)\n",
    "    BMFs.update({folder: tmp})"
   ]
  },
  {
   "cell_type": "code",
   "execution_count": 8,
   "metadata": {},
   "outputs": [],
   "source": [
    "i=0\n",
    "for file_name,file in BMFs.items():\n",
    "    if \"/\" in file_name:\n",
    "        file_name = file_name[:len(file_name)]\n",
    "    file.to_csv(\"big_data.nosync/BMF_\"+file_name+\"_cleaned.csv\")\n",
    "    i+=1"
   ]
  },
  {
   "cell_type": "code",
   "execution_count": null,
   "metadata": {},
   "outputs": [],
   "source": []
  },
  {
   "cell_type": "code",
   "execution_count": null,
   "metadata": {},
   "outputs": [],
   "source": []
  }
 ],
 "metadata": {
  "kernelspec": {
   "display_name": "Python 3",
   "language": "python",
   "name": "python3"
  },
  "language_info": {
   "codemirror_mode": {
    "name": "ipython",
    "version": 3
   },
   "file_extension": ".py",
   "mimetype": "text/x-python",
   "name": "python",
   "nbconvert_exporter": "python",
   "pygments_lexer": "ipython3",
   "version": "3.6.6"
  }
 },
 "nbformat": 4,
 "nbformat_minor": 4
}
